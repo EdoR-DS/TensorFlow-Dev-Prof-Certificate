{
  "nbformat": 4,
  "nbformat_minor": 0,
  "metadata": {
    "accelerator": "GPU",
    "colab": {
      "name": "C2_W3_Lab_1_transfer_learning.ipynb",
      "provenance": [],
      "collapsed_sections": [],
      "toc_visible": true,
      "include_colab_link": true
    },
    "kernelspec": {
      "name": "python3",
      "display_name": "Python 3"
    },
    "language_info": {
      "name": "python"
    }
  },
  "cells": [
    {
      "cell_type": "markdown",
      "metadata": {
        "id": "view-in-github",
        "colab_type": "text"
      },
      "source": [
        "<a href=\"https://colab.research.google.com/github/EdoR-DS/TensorFlow-Dev-Prof-Certificate/blob/main/Module2/C2_W3_Lab_1_transfer_learning.ipynb\" target=\"_parent\"><img src=\"https://colab.research.google.com/assets/colab-badge.svg\" alt=\"Open In Colab\"/></a>"
      ]
    },
    {
      "cell_type": "markdown",
      "metadata": {
        "id": "rX8mhOLljYeM"
      },
      "source": [
        "##### Copyright 2019 The TensorFlow Authors."
      ]
    },
    {
      "cell_type": "code",
      "metadata": {
        "cellView": "form",
        "id": "BZSlp3DAjdYf"
      },
      "source": [
        "#@title Licensed under the Apache License, Version 2.0 (the \"License\");\n",
        "# you may not use this file except in compliance with the License.\n",
        "# You may obtain a copy of the License at\n",
        "#\n",
        "# https://www.apache.org/licenses/LICENSE-2.0\n",
        "#\n",
        "# Unless required by applicable law or agreed to in writing, software\n",
        "# distributed under the License is distributed on an \"AS IS\" BASIS,\n",
        "# WITHOUT WARRANTIES OR CONDITIONS OF ANY KIND, either express or implied.\n",
        "# See the License for the specific language governing permissions and\n",
        "# limitations under the License."
      ],
      "execution_count": null,
      "outputs": []
    },
    {
      "cell_type": "markdown",
      "metadata": {
        "id": "Qvrr8pLRzJMV"
      },
      "source": [
        "**IMPORTANT NOTE:** This notebook is designed to run as a Colab. Click the button on top that says, `Open in Colab`, to run this notebook as a Colab. Running the notebook on your local machine might result in some of the code blocks throwing errors."
      ]
    },
    {
      "cell_type": "code",
      "metadata": {
        "id": "1xJZ5glPPCRz",
        "outputId": "a270a419-fd31-449f-975a-6b307d316e2e",
        "colab": {
          "base_uri": "https://localhost:8080/"
        }
      },
      "source": [
        "import os\n",
        "\n",
        "from tensorflow.keras import layers\n",
        "from tensorflow.keras import Model\n",
        "\n",
        "!wget --no-check-certificate \\\n",
        "    https://storage.googleapis.com/mledu-datasets/inception_v3_weights_tf_dim_ordering_tf_kernels_notop.h5 \\\n",
        "    -O /tmp/inception_v3_weights_tf_dim_ordering_tf_kernels_notop.h5\n",
        "  \n"
      ],
      "execution_count": 1,
      "outputs": [
        {
          "output_type": "stream",
          "name": "stdout",
          "text": [
            "--2021-12-08 18:35:40--  https://storage.googleapis.com/mledu-datasets/inception_v3_weights_tf_dim_ordering_tf_kernels_notop.h5\n",
            "Resolving storage.googleapis.com (storage.googleapis.com)... 142.250.136.128, 142.250.152.128, 209.85.200.128, ...\n",
            "Connecting to storage.googleapis.com (storage.googleapis.com)|142.250.136.128|:443... connected.\n",
            "HTTP request sent, awaiting response... 200 OK\n",
            "Length: 87910968 (84M) [application/x-hdf]\n",
            "Saving to: ‘/tmp/inception_v3_weights_tf_dim_ordering_tf_kernels_notop.h5’\n",
            "\n",
            "/tmp/inception_v3_w 100%[===================>]  83.84M   165MB/s    in 0.5s    \n",
            "\n",
            "2021-12-08 18:35:41 (165 MB/s) - ‘/tmp/inception_v3_weights_tf_dim_ordering_tf_kernels_notop.h5’ saved [87910968/87910968]\n",
            "\n"
          ]
        }
      ]
    },
    {
      "cell_type": "code",
      "metadata": {
        "id": "KsiBCpQ1VvPp",
        "outputId": "b4dced7f-1e8f-4e03-f67a-65573ea5aaec",
        "colab": {
          "base_uri": "https://localhost:8080/"
        }
      },
      "source": [
        "from tensorflow.keras.applications.inception_v3 import InceptionV3\n",
        "\n",
        "local_weights_file = '/tmp/inception_v3_weights_tf_dim_ordering_tf_kernels_notop.h5'\n",
        "\n",
        "pre_trained_model = InceptionV3(input_shape = (150, 150, 3), \n",
        "                                include_top = False, \n",
        "                                weights = None)\n",
        "\n",
        "pre_trained_model.load_weights(local_weights_file)\n",
        "\n",
        "for layer in pre_trained_model.layers:\n",
        "  layer.trainable = False\n",
        "  \n",
        "# pre_trained_model.summary()\n",
        "\n",
        "last_layer = pre_trained_model.get_layer('mixed7')\n",
        "print('last layer output shape: ', last_layer.output_shape)\n",
        "last_output = last_layer.output"
      ],
      "execution_count": 2,
      "outputs": [
        {
          "output_type": "stream",
          "name": "stdout",
          "text": [
            "last layer output shape:  (None, 7, 7, 768)\n"
          ]
        }
      ]
    },
    {
      "cell_type": "code",
      "metadata": {
        "id": "BMXb913pbvFg"
      },
      "source": [
        "from tensorflow.keras.optimizers import RMSprop\n",
        "\n",
        "# Flatten the output layer to 1 dimension\n",
        "x = layers.Flatten()(last_output)\n",
        "# Add a fully connected layer with 1,024 hidden units and ReLU activation\n",
        "x = layers.Dense(1024, activation='relu')(x)\n",
        "# Add a dropout rate of 0.2\n",
        "x = layers.Dropout(0.2)(x)                  \n",
        "# Add a final sigmoid layer for classification\n",
        "x = layers.Dense  (1, activation='sigmoid')(x)           \n",
        "\n",
        "model = Model( pre_trained_model.input, x) \n",
        "\n",
        "model.compile(optimizer = RMSprop(learning_rate=0.0001), \n",
        "              loss = 'binary_crossentropy', \n",
        "              metrics = ['accuracy'])\n"
      ],
      "execution_count": 3,
      "outputs": []
    },
    {
      "cell_type": "code",
      "metadata": {
        "id": "O4s8HckqGlnb",
        "outputId": "4b4d69ed-cc96-49a1-ec28-516852350645",
        "colab": {
          "base_uri": "https://localhost:8080/"
        }
      },
      "source": [
        "!gdown --id 1RL0T7Rg4XqQNRCkjfnLo4goOJQ7XZro9\n",
        "\n",
        "from tensorflow.keras.preprocessing.image import ImageDataGenerator\n",
        "\n",
        "import os\n",
        "import zipfile\n",
        "\n",
        "zip_ref = zipfile.ZipFile(\"./cats_and_dogs_filtered.zip\", 'r')\n",
        "zip_ref.extractall(\"tmp/\")\n",
        "zip_ref.close()\n",
        "\n",
        "# Define our example directories and files\n",
        "base_dir = 'tmp/cats_and_dogs_filtered'\n",
        "\n",
        "train_dir = os.path.join( base_dir, 'train')\n",
        "validation_dir = os.path.join( base_dir, 'validation')\n",
        "\n",
        "\n",
        "train_cats_dir = os.path.join(train_dir, 'cats') # Directory with our training cat pictures\n",
        "train_dogs_dir = os.path.join(train_dir, 'dogs') # Directory with our training dog pictures\n",
        "validation_cats_dir = os.path.join(validation_dir, 'cats') # Directory with our validation cat pictures\n",
        "validation_dogs_dir = os.path.join(validation_dir, 'dogs')# Directory with our validation dog pictures\n",
        "\n",
        "train_cat_fnames = os.listdir(train_cats_dir)\n",
        "train_dog_fnames = os.listdir(train_dogs_dir)\n",
        "\n",
        "# Add our data-augmentation parameters to ImageDataGenerator\n",
        "train_datagen = ImageDataGenerator(rescale = 1./255.,\n",
        "                                   rotation_range = 40,\n",
        "                                   width_shift_range = 0.2,\n",
        "                                   height_shift_range = 0.2,\n",
        "                                   shear_range = 0.2,\n",
        "                                   zoom_range = 0.2,\n",
        "                                   horizontal_flip = True)\n",
        "\n",
        "# Note that the validation data should not be augmented!\n",
        "test_datagen = ImageDataGenerator( rescale = 1.0/255. )\n",
        "\n",
        "# Flow training images in batches of 20 using train_datagen generator\n",
        "train_generator = train_datagen.flow_from_directory(train_dir,\n",
        "                                                    batch_size = 20,\n",
        "                                                    class_mode = 'binary', \n",
        "                                                    target_size = (150, 150))     \n",
        "\n",
        "# Flow validation images in batches of 20 using test_datagen generator\n",
        "validation_generator =  test_datagen.flow_from_directory( validation_dir,\n",
        "                                                          batch_size  = 20,\n",
        "                                                          class_mode  = 'binary', \n",
        "                                                          target_size = (150, 150))"
      ],
      "execution_count": 4,
      "outputs": [
        {
          "output_type": "stream",
          "name": "stdout",
          "text": [
            "Downloading...\n",
            "From: https://drive.google.com/uc?id=1RL0T7Rg4XqQNRCkjfnLo4goOJQ7XZro9\n",
            "To: /content/cats_and_dogs_filtered.zip\n",
            "100% 68.6M/68.6M [00:01<00:00, 67.3MB/s]\n",
            "Found 2000 images belonging to 2 classes.\n",
            "Found 1000 images belonging to 2 classes.\n"
          ]
        }
      ]
    },
    {
      "cell_type": "code",
      "metadata": {
        "id": "Blhq2MAUeyGA",
        "outputId": "4bbff6df-2a0e-4196-cff3-0a996e709429",
        "colab": {
          "base_uri": "https://localhost:8080/"
        }
      },
      "source": [
        "history = model.fit(\n",
        "            train_generator,\n",
        "            validation_data = validation_generator,\n",
        "            steps_per_epoch = 100,\n",
        "            epochs = 20,\n",
        "            validation_steps = 50,\n",
        "            verbose = 2)"
      ],
      "execution_count": 5,
      "outputs": [
        {
          "output_type": "stream",
          "name": "stdout",
          "text": [
            "Epoch 1/20\n",
            "100/100 - 37s - loss: 0.3524 - accuracy: 0.8655 - val_loss: 0.1174 - val_accuracy: 0.9550 - 37s/epoch - 368ms/step\n",
            "Epoch 2/20\n",
            "100/100 - 22s - loss: 0.1881 - accuracy: 0.9245 - val_loss: 0.1320 - val_accuracy: 0.9520 - 22s/epoch - 223ms/step\n",
            "Epoch 3/20\n",
            "100/100 - 23s - loss: 0.2213 - accuracy: 0.9220 - val_loss: 0.1364 - val_accuracy: 0.9520 - 23s/epoch - 228ms/step\n",
            "Epoch 4/20\n",
            "100/100 - 22s - loss: 0.1915 - accuracy: 0.9335 - val_loss: 0.1192 - val_accuracy: 0.9630 - 22s/epoch - 221ms/step\n",
            "Epoch 5/20\n",
            "100/100 - 22s - loss: 0.1749 - accuracy: 0.9365 - val_loss: 0.1889 - val_accuracy: 0.9430 - 22s/epoch - 221ms/step\n",
            "Epoch 6/20\n",
            "100/100 - 22s - loss: 0.1989 - accuracy: 0.9285 - val_loss: 0.1190 - val_accuracy: 0.9650 - 22s/epoch - 219ms/step\n",
            "Epoch 7/20\n",
            "100/100 - 23s - loss: 0.1787 - accuracy: 0.9385 - val_loss: 0.1007 - val_accuracy: 0.9690 - 23s/epoch - 232ms/step\n",
            "Epoch 8/20\n",
            "100/100 - 22s - loss: 0.1653 - accuracy: 0.9435 - val_loss: 0.1010 - val_accuracy: 0.9730 - 22s/epoch - 222ms/step\n",
            "Epoch 9/20\n",
            "100/100 - 23s - loss: 0.1727 - accuracy: 0.9400 - val_loss: 0.0895 - val_accuracy: 0.9650 - 23s/epoch - 229ms/step\n",
            "Epoch 10/20\n",
            "100/100 - 22s - loss: 0.1359 - accuracy: 0.9485 - val_loss: 0.1137 - val_accuracy: 0.9680 - 22s/epoch - 220ms/step\n",
            "Epoch 11/20\n",
            "100/100 - 23s - loss: 0.1542 - accuracy: 0.9440 - val_loss: 0.1225 - val_accuracy: 0.9690 - 23s/epoch - 227ms/step\n",
            "Epoch 12/20\n",
            "100/100 - 22s - loss: 0.1605 - accuracy: 0.9480 - val_loss: 0.1322 - val_accuracy: 0.9640 - 22s/epoch - 222ms/step\n",
            "Epoch 13/20\n",
            "100/100 - 23s - loss: 0.1496 - accuracy: 0.9460 - val_loss: 0.1204 - val_accuracy: 0.9650 - 23s/epoch - 227ms/step\n",
            "Epoch 14/20\n",
            "100/100 - 22s - loss: 0.1393 - accuracy: 0.9555 - val_loss: 0.1211 - val_accuracy: 0.9720 - 22s/epoch - 222ms/step\n",
            "Epoch 15/20\n",
            "100/100 - 23s - loss: 0.1499 - accuracy: 0.9500 - val_loss: 0.2381 - val_accuracy: 0.9410 - 23s/epoch - 225ms/step\n",
            "Epoch 16/20\n",
            "100/100 - 22s - loss: 0.1386 - accuracy: 0.9520 - val_loss: 0.1833 - val_accuracy: 0.9540 - 22s/epoch - 220ms/step\n",
            "Epoch 17/20\n",
            "100/100 - 22s - loss: 0.1197 - accuracy: 0.9575 - val_loss: 0.1518 - val_accuracy: 0.9640 - 22s/epoch - 223ms/step\n",
            "Epoch 18/20\n",
            "100/100 - 22s - loss: 0.1549 - accuracy: 0.9510 - val_loss: 0.1637 - val_accuracy: 0.9530 - 22s/epoch - 219ms/step\n",
            "Epoch 19/20\n",
            "100/100 - 23s - loss: 0.1126 - accuracy: 0.9600 - val_loss: 0.1325 - val_accuracy: 0.9680 - 23s/epoch - 230ms/step\n",
            "Epoch 20/20\n",
            "100/100 - 22s - loss: 0.1438 - accuracy: 0.9535 - val_loss: 0.1188 - val_accuracy: 0.9700 - 22s/epoch - 219ms/step\n"
          ]
        }
      ]
    },
    {
      "cell_type": "code",
      "metadata": {
        "id": "C2Fp6Se9rKuL",
        "outputId": "51e478f4-4397-4465-e709-e303528dc5e8",
        "colab": {
          "base_uri": "https://localhost:8080/",
          "height": 298
        }
      },
      "source": [
        "import matplotlib.pyplot as plt\n",
        "acc = history.history['accuracy']\n",
        "val_acc = history.history['val_accuracy']\n",
        "loss = history.history['loss']\n",
        "val_loss = history.history['val_loss']\n",
        "\n",
        "epochs = range(len(acc))\n",
        "\n",
        "plt.plot(epochs, acc, 'r', label='Training accuracy')\n",
        "plt.plot(epochs, val_acc, 'b', label='Validation accuracy')\n",
        "plt.title('Training and validation accuracy')\n",
        "plt.legend(loc=0)\n",
        "plt.figure()\n",
        "\n",
        "\n",
        "plt.show()"
      ],
      "execution_count": 6,
      "outputs": [
        {
          "output_type": "display_data",
          "data": {
            "image/png": "[encoded data removed]",
            "text/plain": [
              "<Figure size 432x288 with 1 Axes>"
            ]
          },
          "metadata": {
            "needs_background": "light"
          }
        },
        {
          "output_type": "display_data",
          "data": {
            "text/plain": [
              "<Figure size 432x288 with 0 Axes>"
            ]
          },
          "metadata": {}
        }
      ]
    },
    {
      "cell_type": "code",
      "source": [
        ""
      ],
      "metadata": {
        "id": "QOrmvziFVUdr"
      },
      "execution_count": null,
      "outputs": []
    }
  ]
}