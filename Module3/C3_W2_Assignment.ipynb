{
  "nbformat": 4,
  "nbformat_minor": 0,
  "metadata": {
    "accelerator": "GPU",
    "colab": {
      "name": "C3_W2_Assignment.ipynb",
      "provenance": [],
      "collapsed_sections": [],
      "toc_visible": true,
      "include_colab_link": true
    },
    "kernelspec": {
      "display_name": "Python 3",
      "language": "python",
      "name": "python3"
    },
    "language_info": {
      "codemirror_mode": {
        "name": "ipython",
        "version": 3
      },
      "file_extension": ".py",
      "mimetype": "text/x-python",
      "name": "python",
      "nbconvert_exporter": "python",
      "pygments_lexer": "ipython3",
      "version": "3.8.5"
    }
  },
  "cells": [
    {
      "cell_type": "markdown",
      "metadata": {
        "id": "view-in-github",
        "colab_type": "text"
      },
      "source": [
        "<a href=\"https://colab.research.google.com/github/EdoR-DS/TensorFlow-Dev-Prof-Certificate/blob/main/Module3/C3_W2_Assignment.ipynb\" target=\"_parent\"><img src=\"https://colab.research.google.com/assets/colab-badge.svg\" alt=\"Open In Colab\"/></a>"
      ]
    },
    {
      "cell_type": "markdown",
      "metadata": {
        "id": "dBYOOlm8TFfu"
      },
      "source": [
        "##### Copyright 2019 The TensorFlow Authors."
      ]
    },
    {
      "cell_type": "code",
      "metadata": {
        "id": "zX4Kg8DUTKWO"
      },
      "source": [
        "#@title Licensed under the Apache License, Version 2.0 (the \"License\");\n",
        "# you may not use this file except in compliance with the License.\n",
        "# You may obtain a copy of the License at\n",
        "#\n",
        "# https://www.apache.org/licenses/LICENSE-2.0\n",
        "#\n",
        "# Unless required by applicable law or agreed to in writing, software\n",
        "# distributed under the License is distributed on an \"AS IS\" BASIS,\n",
        "# WITHOUT WARRANTIES OR CONDITIONS OF ANY KIND, either express or implied.\n",
        "# See the License for the specific language governing permissions and\n",
        "# limitations under the License."
      ],
      "execution_count": null,
      "outputs": []
    },
    {
      "cell_type": "markdown",
      "metadata": {
        "id": "-mx-T6SJTFfv"
      },
      "source": [
        "**Note:** This notebook can run using TensorFlow 2.5.0"
      ]
    },
    {
      "cell_type": "code",
      "metadata": {
        "id": "dbp5Amp9TFfv"
      },
      "source": [
        "#!pip install tensorflow==2.5.0"
      ],
      "execution_count": null,
      "outputs": []
    },
    {
      "cell_type": "code",
      "metadata": {
        "id": "gnwiOnGyW5JK",
        "colab": {
          "base_uri": "https://localhost:8080/"
        },
        "outputId": "72585505-5c31-40f4-ce0d-a45db0e8a28d"
      },
      "source": [
        "import csv\n",
        "import tensorflow as tf\n",
        "import numpy as np\n",
        "from tensorflow.keras.preprocessing.text import Tokenizer\n",
        "from tensorflow.keras.preprocessing.sequence import pad_sequences\n",
        "\n",
        "# bbc-text.csv\n",
        "!gdown --id 1rX10xeI3eUJmOLsc4pOPY6AnCLO8DxNj"
      ],
      "execution_count": null,
      "outputs": [
        {
          "output_type": "stream",
          "name": "stdout",
          "text": [
            "Downloading...\n",
            "From: https://drive.google.com/uc?id=1rX10xeI3eUJmOLsc4pOPY6AnCLO8DxNj\n",
            "To: /content/bbc-text.csv\n",
            "\r  0% 0.00/5.06M [00:00<?, ?B/s]\r100% 5.06M/5.06M [00:00<00:00, 36.7MB/s]\n"
          ]
        }
      ]
    },
    {
      "cell_type": "code",
      "metadata": {
        "id": "EYo6A4v5ZABQ"
      },
      "source": [
        "vocab_size = 1000 # YOUR CODE HERE\n",
        "embedding_dim = 16 # YOUR CODE HERE\n",
        "max_length = 120 # YOUR CODE HERE\n",
        "trunc_type = 'post' # YOUR CODE HERE\n",
        "padding_type = 'post' # YOUR CODE HERE\n",
        "oov_tok = \"<OOV>\" # YOUR CODE HERE\n",
        "training_portion = .8"
      ],
      "execution_count": null,
      "outputs": []
    },
    {
      "cell_type": "code",
      "metadata": {
        "id": "iU1qq3_SZBx_",
        "colab": {
          "base_uri": "https://localhost:8080/"
        },
        "outputId": "584dd2c0-6529-4b2b-ef0e-600bb251c971"
      },
      "source": [
        "sentences = []\n",
        "labels = []\n",
        "stopwords = [ \"a\", \"about\", \"above\", \"after\", \"again\", \"against\", \"all\", \"am\", \"an\", \"and\", \"any\", \"are\", \"as\", \"at\", \"be\", \"because\", \"been\", \"before\", \"being\", \"below\", \"between\", \"both\", \"but\", \"by\", \"could\", \"did\", \"do\", \"does\", \"doing\", \"down\", \"during\", \"each\", \"few\", \"for\", \"from\", \"further\", \"had\", \"has\", \"have\", \"having\", \"he\", \"he'd\", \"he'll\", \"he's\", \"her\", \"here\", \"here's\", \"hers\", \"herself\", \"him\", \"himself\", \"his\", \"how\", \"how's\", \"i\", \"i'd\", \"i'll\", \"i'm\", \"i've\", \"if\", \"in\", \"into\", \"is\", \"it\", \"it's\", \"its\", \"itself\", \"let's\", \"me\", \"more\", \"most\", \"my\", \"myself\", \"nor\", \"of\", \"on\", \"once\", \"only\", \"or\", \"other\", \"ought\", \"our\", \"ours\", \"ourselves\", \"out\", \"over\", \"own\", \"same\", \"she\", \"she'd\", \"she'll\", \"she's\", \"should\", \"so\", \"some\", \"such\", \"than\", \"that\", \"that's\", \"the\", \"their\", \"theirs\", \"them\", \"themselves\", \"then\", \"there\", \"there's\", \"these\", \"they\", \"they'd\", \"they'll\", \"they're\", \"they've\", \"this\", \"those\", \"through\", \"to\", \"too\", \"under\", \"until\", \"up\", \"very\", \"was\", \"we\", \"we'd\", \"we'll\", \"we're\", \"we've\", \"were\", \"what\", \"what's\", \"when\", \"when's\", \"where\", \"where's\", \"which\", \"while\", \"who\", \"who's\", \"whom\", \"why\", \"why's\", \"with\", \"would\", \"you\", \"you'd\", \"you'll\", \"you're\", \"you've\", \"your\", \"yours\", \"yourself\", \"yourselves\" ]\n",
        "print(len(stopwords))\n",
        "# Expected Output\n",
        "# 153"
      ],
      "execution_count": null,
      "outputs": [
        {
          "output_type": "stream",
          "name": "stdout",
          "text": [
            "153\n"
          ]
        }
      ]
    },
    {
      "cell_type": "code",
      "metadata": {
        "id": "eutB2xMiZD0e",
        "colab": {
          "base_uri": "https://localhost:8080/"
        },
        "outputId": "d9b9924c-1f05-424a-f4ea-2a54033ba95b"
      },
      "source": [
        "with open(\"./bbc-text.csv\", 'r') as csvfile:\n",
        "    ### START CODE HERE\n",
        "    reader = csv.reader(csvfile, delimiter=',')\n",
        "    next(reader)\n",
        "    for row in reader:\n",
        "        labels.append(row[0])\n",
        "        sentence = row[1]\n",
        "        for word in stopwords:\n",
        "            token = \" \" + word + \" \"\n",
        "            sentence = sentence.replace(token, \" \")\n",
        "            sentence = sentence.replace(\"  \", \" \")\n",
        "        sentences.append(sentence)\n",
        "    ### END CODE HERE\n",
        "\n",
        "    \n",
        "print(len(labels))\n",
        "print(len(sentences))\n",
        "print(sentences[0])\n",
        "# Expected Output\n",
        "# 2225\n",
        "# 2225\n",
        "# tv future hands viewers home theatre systems  plasma high-definition tvs  digital video recorders moving living room  way people watch tv will radically different five years  time.  according expert panel gathered annual consumer electronics show las vegas discuss new technologies will impact one favourite pastimes. us leading trend  programmes content will delivered viewers via home networks  cable  satellite  telecoms companies  broadband service providers front rooms portable devices.  one talked-about technologies ces digital personal video recorders (dvr pvr). set-top boxes  like us s tivo uk s sky+ system  allow people record  store  play  pause forward wind tv programmes want.  essentially  technology allows much personalised tv. also built-in high-definition tv sets  big business japan us  slower take off europe lack high-definition programming. not can people forward wind adverts  can also forget abiding network channel schedules  putting together a-la-carte entertainment. us networks cable satellite companies worried means terms advertising revenues well  brand identity  viewer loyalty channels. although us leads technology moment  also concern raised europe  particularly growing uptake services like sky+.  happens today  will see nine months years  time uk   adam hume  bbc broadcast s futurologist told bbc news website. likes bbc  no issues lost advertising revenue yet. pressing issue moment commercial uk broadcasters  brand loyalty important everyone.  will talking content brands rather network brands   said tim hanlon  brand communications firm starcom mediavest.  reality broadband connections  anybody can producer content.  added:  challenge now hard promote programme much choice.   means  said stacey jolna  senior vice president tv guide tv group  way people find content want watch simplified tv viewers. means networks  us terms  channels take leaf google s book search engine future  instead scheduler help people find want watch. kind channel model might work younger ipod generation used taking control gadgets play them. might not suit everyone  panel recognised. older generations comfortable familiar schedules channel brands know getting. perhaps not want much choice put hands  mr hanlon suggested.  end  kids just diapers pushing buttons already - everything possible available   said mr hanlon.  ultimately  consumer will tell market want.   50 000 new gadgets technologies showcased ces  many enhancing tv-watching experience. high-definition tv sets everywhere many new models lcd (liquid crystal display) tvs launched dvr capability built  instead external boxes. one example launched show humax s 26-inch lcd tv 80-hour tivo dvr dvd recorder. one us s biggest satellite tv companies  directtv  even launched branded dvr show 100-hours recording capability  instant replay  search function. set can pause rewind tv 90 hours. microsoft chief bill gates announced pre-show keynote speech partnership tivo  called tivotogo  means people can play recorded programmes windows pcs mobile devices. reflect increasing trend freeing multimedia people can watch want  want."
      ],
      "execution_count": null,
      "outputs": [
        {
          "output_type": "stream",
          "name": "stdout",
          "text": [
            "2225\n",
            "2225\n",
            "tv future hands viewers home theatre systems plasma high-definition tvs digital video recorders moving living room way people watch tv will radically different five years time. according expert panel gathered annual consumer electronics show las vegas discuss new technologies will impact one favourite pastimes. us leading trend programmes content will delivered viewers via home networks cable satellite telecoms companies broadband service providers front rooms portable devices. one talked-about technologies ces digital personal video recorders (dvr pvr). set-top boxes like us s tivo uk s sky+ system allow people record store play pause forward wind tv programmes want. essentially technology allows much personalised tv. also built-in high-definition tv sets big business japan us slower take off europe lack high-definition programming. not can people forward wind adverts can also forget abiding network channel schedules putting together a-la-carte entertainment. us networks cable satellite companies worried means terms advertising revenues well brand identity viewer loyalty channels. although us leads technology moment also concern raised europe particularly growing uptake services like sky+. happens today will see nine months years time uk adam hume bbc broadcast s futurologist told bbc news website. likes bbc no issues lost advertising revenue yet. pressing issue moment commercial uk broadcasters brand loyalty important everyone. will talking content brands rather network brands said tim hanlon brand communications firm starcom mediavest. reality broadband connections anybody can producer content. added: challenge now hard promote programme much choice. means said stacey jolna senior vice president tv guide tv group way people find content want watch simplified tv viewers. means networks us terms channels take leaf google s book search engine future instead scheduler help people find want watch. kind channel model might work younger ipod generation used taking control gadgets play them. might not suit everyone panel recognised. older generations comfortable familiar schedules channel brands know getting. perhaps not want much choice put hands mr hanlon suggested. end kids just diapers pushing buttons already - everything possible available said mr hanlon. ultimately consumer will tell market want. 50 000 new gadgets technologies showcased ces many enhancing tv-watching experience. high-definition tv sets everywhere many new models lcd (liquid crystal display) tvs launched dvr capability built instead external boxes. one example launched show humax s 26-inch lcd tv 80-hour tivo dvr dvd recorder. one us s biggest satellite tv companies directtv even launched branded dvr show 100-hours recording capability instant replay search function. set can pause rewind tv 90 hours. microsoft chief bill gates announced pre-show keynote speech partnership tivo called tivotogo means people can play recorded programmes windows pcs mobile devices. reflect increasing trend freeing multimedia people can watch want want.\n"
          ]
        }
      ]
    },
    {
      "cell_type": "code",
      "metadata": {
        "id": "XfdaWh06ZGe3",
        "colab": {
          "base_uri": "https://localhost:8080/"
        },
        "outputId": "fff123b5-2e5b-4f84-b247-cbc7133199d1"
      },
      "source": [
        "train_size = int(len(sentences) * training_portion) # YOUR CODE HERE\n",
        "\n",
        "train_sentences = sentences[0:train_size] # YOUR CODE HERE\n",
        "train_labels = labels[0:train_size] # YOUR CODE HERE\n",
        "\n",
        "validation_sentences = sentences[train_size:] # YOUR CODE HERE\n",
        "validation_labels = labels[train_size:] # YOUR CODE HERE\n",
        "\n",
        "print(train_size)\n",
        "print(len(train_sentences))\n",
        "print(len(train_labels))\n",
        "print(len(validation_sentences))\n",
        "print(len(validation_labels))\n",
        "\n",
        "# Expected output (if training_portion=.8)\n",
        "# 1780\n",
        "# 1780\n",
        "# 1780\n",
        "# 445\n",
        "# 445"
      ],
      "execution_count": null,
      "outputs": [
        {
          "output_type": "stream",
          "name": "stdout",
          "text": [
            "1780\n",
            "1780\n",
            "1780\n",
            "445\n",
            "445\n"
          ]
        }
      ]
    },
    {
      "cell_type": "code",
      "metadata": {
        "id": "ULzA8xhwZI22",
        "colab": {
          "base_uri": "https://localhost:8080/"
        },
        "outputId": "fabf2ee6-b0b6-4def-afc5-ca46b51bbec4"
      },
      "source": [
        "tokenizer = Tokenizer(num_words=vocab_size, oov_token=oov_tok) # YOUR CODE HERE\n",
        "tokenizer.fit_on_texts(train_sentences) # YOUR CODE HERE\n",
        "word_index = tokenizer.word_index # YOUR CODE HERE\n",
        "\n",
        "train_sequences = tokenizer.texts_to_sequences(train_sentences) # YOUR CODE HERE\n",
        "train_padded = pad_sequences(train_sequences, maxlen=max_length ,padding=padding_type, truncating=trunc_type) # YOUR CODE HERE\n",
        "\n",
        "print(len(train_sequences[0]))\n",
        "print(len(train_padded[0]))\n",
        "\n",
        "print(len(train_sequences[1]))\n",
        "print(len(train_padded[1]))\n",
        "\n",
        "print(len(train_sequences[10]))\n",
        "print(len(train_padded[10]))\n",
        "\n",
        "# Expected Ouput\n",
        "# 449\n",
        "# 120\n",
        "# 200\n",
        "# 120\n",
        "# 192\n",
        "# 120"
      ],
      "execution_count": null,
      "outputs": [
        {
          "output_type": "stream",
          "name": "stdout",
          "text": [
            "449\n",
            "120\n",
            "200\n",
            "120\n",
            "192\n",
            "120\n"
          ]
        }
      ]
    },
    {
      "cell_type": "code",
      "metadata": {
        "id": "c8PeFWzPZLW_",
        "colab": {
          "base_uri": "https://localhost:8080/"
        },
        "outputId": "ad1a4c66-450a-493a-ac9c-08d244cd7494"
      },
      "source": [
        "validation_sequences = tokenizer.texts_to_sequences(validation_sentences) # YOUR CODE HERE\n",
        "validation_padded = pad_sequences(validation_sequences, maxlen=max_length, padding=padding_type, truncating=trunc_type) # YOUR CODE HERE\n",
        "\n",
        "print(len(validation_sequences))\n",
        "print(validation_padded.shape)\n",
        "\n",
        "# Expected output\n",
        "# 445\n",
        "# (445, 120)"
      ],
      "execution_count": null,
      "outputs": [
        {
          "output_type": "stream",
          "name": "stdout",
          "text": [
            "445\n",
            "(445, 120)\n"
          ]
        }
      ]
    },
    {
      "cell_type": "code",
      "metadata": {
        "id": "XkWiQ_FKZNp2",
        "colab": {
          "base_uri": "https://localhost:8080/"
        },
        "outputId": "6404fef5-c67b-470e-e301-748b2b6e1e67"
      },
      "source": [
        "label_tokenizer = Tokenizer() # YOUR CODE HERE\n",
        "label_tokenizer.fit_on_texts(labels) # YOUR CODE HERE\n",
        "\n",
        "training_label_seq = np.array(label_tokenizer.texts_to_sequences(train_labels)) # YOUR CODE HERE\n",
        "validation_label_seq = np.array(label_tokenizer.texts_to_sequences(validation_labels)) # YOUR CODE HERE\n",
        "\n",
        "print(training_label_seq[0])\n",
        "print(training_label_seq[1])\n",
        "print(training_label_seq[2])\n",
        "print(training_label_seq.shape)\n",
        "\n",
        "print(validation_label_seq[0])\n",
        "print(validation_label_seq[1])\n",
        "print(validation_label_seq[2])\n",
        "print(validation_label_seq.shape)\n",
        "\n",
        "# Expected output\n",
        "# [4]\n",
        "# [2]\n",
        "# [1]\n",
        "# (1780, 1)\n",
        "# [5]\n",
        "# [4]\n",
        "# [3]\n",
        "# (445, 1)"
      ],
      "execution_count": null,
      "outputs": [
        {
          "output_type": "stream",
          "name": "stdout",
          "text": [
            "[4]\n",
            "[2]\n",
            "[1]\n",
            "(1780, 1)\n",
            "[5]\n",
            "[4]\n",
            "[3]\n",
            "(445, 1)\n"
          ]
        }
      ]
    },
    {
      "cell_type": "code",
      "metadata": {
        "id": "HZ5um4MWZP-W",
        "colab": {
          "base_uri": "https://localhost:8080/"
        },
        "outputId": "3776b81f-6e9f-446b-b73b-7ee2405eb0f2"
      },
      "source": [
        "model = tf.keras.Sequential([\n",
        "    tf.keras.layers.Embedding(vocab_size, embedding_dim, input_length=max_length),\n",
        "    tf.keras.layers.GlobalAveragePooling1D(),\n",
        "    tf.keras.layers.Dense(24, activation='relu'),\n",
        "    tf.keras.layers.Dense(6, activation='softmax')\n",
        "]) # YOUR CODE HERE\n",
        "model.compile(loss='sparse_categorical_crossentropy',optimizer='adam',metrics=['accuracy'])\n",
        "model.summary()\n",
        "\n",
        "# Expected Output\n",
        "# Layer (type)                 Output Shape              Param #   \n",
        "# =================================================================\n",
        "# embedding (Embedding)        (None, 120, 16)           16000     \n",
        "# _________________________________________________________________\n",
        "# global_average_pooling1d (Gl (None, 16)                0         \n",
        "# _________________________________________________________________\n",
        "# dense (Dense)                (None, 24)                408       \n",
        "# _________________________________________________________________\n",
        "# dense_1 (Dense)              (None, 6)                 150       \n",
        "# =================================================================\n",
        "# Total params: 16,558\n",
        "# Trainable params: 16,558\n",
        "# Non-trainable params: 0"
      ],
      "execution_count": null,
      "outputs": [
        {
          "output_type": "stream",
          "name": "stdout",
          "text": [
            "Model: \"sequential_3\"\n",
            "_________________________________________________________________\n",
            " Layer (type)                Output Shape              Param #   \n",
            "=================================================================\n",
            " embedding_3 (Embedding)     (None, 120, 16)           16000     \n",
            "                                                                 \n",
            " global_average_pooling1d_3   (None, 16)               0         \n",
            " (GlobalAveragePooling1D)                                        \n",
            "                                                                 \n",
            " dense_6 (Dense)             (None, 24)                408       \n",
            "                                                                 \n",
            " dense_7 (Dense)             (None, 6)                 150       \n",
            "                                                                 \n",
            "=================================================================\n",
            "Total params: 16,558\n",
            "Trainable params: 16,558\n",
            "Non-trainable params: 0\n",
            "_________________________________________________________________\n"
          ]
        }
      ]
    },
    {
      "cell_type": "code",
      "metadata": {
        "id": "XsfdxySKZSXu",
        "colab": {
          "base_uri": "https://localhost:8080/"
        },
        "outputId": "63d2281b-b4b9-455f-9183-5e156d650b52"
      },
      "source": [
        "num_epochs = 30\n",
        "history = model.fit(train_padded, training_label_seq, epochs=num_epochs, validation_data=(validation_padded, validation_label_seq), verbose=2) # YOUR CODE HERE)"
      ],
      "execution_count": null,
      "outputs": [
        {
          "output_type": "stream",
          "name": "stdout",
          "text": [
            "Epoch 1/30\n",
            "56/56 - 4s - loss: 1.7639 - accuracy: 0.1893 - val_loss: 1.7285 - val_accuracy: 0.2449 - 4s/epoch - 66ms/step\n",
            "Epoch 2/30\n",
            "56/56 - 0s - loss: 1.6795 - accuracy: 0.3882 - val_loss: 1.6368 - val_accuracy: 0.3843 - 472ms/epoch - 8ms/step\n",
            "Epoch 3/30\n",
            "56/56 - 0s - loss: 1.5771 - accuracy: 0.4399 - val_loss: 1.5321 - val_accuracy: 0.5236 - 473ms/epoch - 8ms/step\n",
            "Epoch 4/30\n",
            "56/56 - 0s - loss: 1.4528 - accuracy: 0.5101 - val_loss: 1.3924 - val_accuracy: 0.5618 - 443ms/epoch - 8ms/step\n",
            "Epoch 5/30\n",
            "56/56 - 0s - loss: 1.2852 - accuracy: 0.6118 - val_loss: 1.2052 - val_accuracy: 0.6742 - 483ms/epoch - 9ms/step\n",
            "Epoch 6/30\n",
            "56/56 - 1s - loss: 1.0691 - accuracy: 0.7708 - val_loss: 0.9937 - val_accuracy: 0.7820 - 510ms/epoch - 9ms/step\n",
            "Epoch 7/30\n",
            "56/56 - 1s - loss: 0.8559 - accuracy: 0.8528 - val_loss: 0.8117 - val_accuracy: 0.8427 - 593ms/epoch - 11ms/step\n",
            "Epoch 8/30\n",
            "56/56 - 0s - loss: 0.6685 - accuracy: 0.8966 - val_loss: 0.6568 - val_accuracy: 0.8854 - 433ms/epoch - 8ms/step\n",
            "Epoch 9/30\n",
            "56/56 - 0s - loss: 0.5304 - accuracy: 0.9140 - val_loss: 0.5510 - val_accuracy: 0.9011 - 500ms/epoch - 9ms/step\n",
            "Epoch 10/30\n",
            "56/56 - 0s - loss: 0.4302 - accuracy: 0.9376 - val_loss: 0.4735 - val_accuracy: 0.9034 - 301ms/epoch - 5ms/step\n",
            "Epoch 11/30\n",
            "56/56 - 0s - loss: 0.3514 - accuracy: 0.9455 - val_loss: 0.4140 - val_accuracy: 0.9169 - 311ms/epoch - 6ms/step\n",
            "Epoch 12/30\n",
            "56/56 - 0s - loss: 0.2924 - accuracy: 0.9545 - val_loss: 0.3678 - val_accuracy: 0.9236 - 280ms/epoch - 5ms/step\n",
            "Epoch 13/30\n",
            "56/56 - 0s - loss: 0.2467 - accuracy: 0.9652 - val_loss: 0.3302 - val_accuracy: 0.9191 - 307ms/epoch - 5ms/step\n",
            "Epoch 14/30\n",
            "56/56 - 0s - loss: 0.2128 - accuracy: 0.9674 - val_loss: 0.3031 - val_accuracy: 0.9258 - 309ms/epoch - 6ms/step\n",
            "Epoch 15/30\n",
            "56/56 - 0s - loss: 0.1847 - accuracy: 0.9725 - val_loss: 0.2859 - val_accuracy: 0.9258 - 278ms/epoch - 5ms/step\n",
            "Epoch 16/30\n",
            "56/56 - 0s - loss: 0.1628 - accuracy: 0.9758 - val_loss: 0.2674 - val_accuracy: 0.9281 - 312ms/epoch - 6ms/step\n",
            "Epoch 17/30\n",
            "56/56 - 0s - loss: 0.1432 - accuracy: 0.9792 - val_loss: 0.2606 - val_accuracy: 0.9281 - 312ms/epoch - 6ms/step\n",
            "Epoch 18/30\n",
            "56/56 - 0s - loss: 0.1281 - accuracy: 0.9809 - val_loss: 0.2485 - val_accuracy: 0.9303 - 304ms/epoch - 5ms/step\n",
            "Epoch 19/30\n",
            "56/56 - 0s - loss: 0.1143 - accuracy: 0.9848 - val_loss: 0.2412 - val_accuracy: 0.9371 - 292ms/epoch - 5ms/step\n",
            "Epoch 20/30\n",
            "56/56 - 0s - loss: 0.1030 - accuracy: 0.9865 - val_loss: 0.2389 - val_accuracy: 0.9348 - 312ms/epoch - 6ms/step\n",
            "Epoch 21/30\n",
            "56/56 - 0s - loss: 0.0937 - accuracy: 0.9871 - val_loss: 0.2310 - val_accuracy: 0.9348 - 310ms/epoch - 6ms/step\n",
            "Epoch 22/30\n",
            "56/56 - 0s - loss: 0.0841 - accuracy: 0.9899 - val_loss: 0.2260 - val_accuracy: 0.9393 - 313ms/epoch - 6ms/step\n",
            "Epoch 23/30\n",
            "56/56 - 0s - loss: 0.0761 - accuracy: 0.9904 - val_loss: 0.2201 - val_accuracy: 0.9416 - 308ms/epoch - 5ms/step\n",
            "Epoch 24/30\n",
            "56/56 - 0s - loss: 0.0688 - accuracy: 0.9927 - val_loss: 0.2184 - val_accuracy: 0.9348 - 301ms/epoch - 5ms/step\n",
            "Epoch 25/30\n",
            "56/56 - 0s - loss: 0.0623 - accuracy: 0.9933 - val_loss: 0.2189 - val_accuracy: 0.9348 - 276ms/epoch - 5ms/step\n",
            "Epoch 26/30\n",
            "56/56 - 0s - loss: 0.0570 - accuracy: 0.9938 - val_loss: 0.2119 - val_accuracy: 0.9393 - 319ms/epoch - 6ms/step\n",
            "Epoch 27/30\n",
            "56/56 - 0s - loss: 0.0518 - accuracy: 0.9966 - val_loss: 0.2099 - val_accuracy: 0.9371 - 277ms/epoch - 5ms/step\n",
            "Epoch 28/30\n",
            "56/56 - 0s - loss: 0.0476 - accuracy: 0.9978 - val_loss: 0.2126 - val_accuracy: 0.9371 - 277ms/epoch - 5ms/step\n",
            "Epoch 29/30\n",
            "56/56 - 0s - loss: 0.0434 - accuracy: 0.9978 - val_loss: 0.2132 - val_accuracy: 0.9393 - 273ms/epoch - 5ms/step\n",
            "Epoch 30/30\n",
            "56/56 - 0s - loss: 0.0395 - accuracy: 0.9983 - val_loss: 0.2097 - val_accuracy: 0.9348 - 307ms/epoch - 5ms/step\n"
          ]
        }
      ]
    },
    {
      "cell_type": "code",
      "metadata": {
        "id": "dQ0BX2apXS9u",
        "colab": {
          "base_uri": "https://localhost:8080/",
          "height": 541
        },
        "outputId": "e6c54d91-e44b-4c26-c640-01b8bfaa0697"
      },
      "source": [
        "import matplotlib.pyplot as plt\n",
        "\n",
        "\n",
        "def plot_graphs(history, string):\n",
        "  plt.plot(history.history[string])\n",
        "  plt.plot(history.history['val_'+string])\n",
        "  plt.xlabel(\"Epochs\")\n",
        "  plt.ylabel(string)\n",
        "  plt.legend([string, 'val_'+string])\n",
        "  plt.show()\n",
        "  \n",
        "plot_graphs(history, \"accuracy\")\n",
        "plot_graphs(history, \"loss\")"
      ],
      "execution_count": null,
      "outputs": [
        {
          "output_type": "display_data",
          "data": {
            "image/png": "[encoded data removed]",
            "text/plain": [
              "<Figure size 432x288 with 1 Axes>"
            ]
          },
          "metadata": {
            "needs_background": "light"
          }
        },
        {
          "output_type": "display_data",
          "data": {
            "image/png": "[encoded data removed]",
            "text/plain": [
              "<Figure size 432x288 with 1 Axes>"
            ]
          },
          "metadata": {
            "needs_background": "light"
          }
        }
      ]
    },
    {
      "cell_type": "code",
      "metadata": {
        "id": "w7Xc-uWxXhML"
      },
      "source": [
        "reverse_word_index = dict([(value, key) for (key, value) in word_index.items()])\n",
        "\n",
        "def decode_sentence(text):\n",
        "    return ' '.join([reverse_word_index.get(i, '?') for i in text])\n"
      ],
      "execution_count": null,
      "outputs": []
    },
    {
      "cell_type": "code",
      "metadata": {
        "id": "OhnFA_TDXrih",
        "colab": {
          "base_uri": "https://localhost:8080/"
        },
        "outputId": "d64542f8-9348-440b-fd16-708a4fbbc585"
      },
      "source": [
        "e = model.layers[0]\n",
        "weights = e.get_weights()[0]\n",
        "print(weights.shape) # shape: (vocab_size, embedding_dim)\n",
        "\n",
        "# Expected output\n",
        "# (1000, 16)"
      ],
      "execution_count": null,
      "outputs": [
        {
          "output_type": "stream",
          "name": "stdout",
          "text": [
            "(1000, 16)\n"
          ]
        }
      ]
    },
    {
      "cell_type": "code",
      "metadata": {
        "id": "_POzcWWAXudL"
      },
      "source": [
        "import io\n",
        "\n",
        "out_v = io.open('vecs.tsv', 'w', encoding='utf-8')\n",
        "out_m = io.open('meta.tsv', 'w', encoding='utf-8')\n",
        "for word_num in range(1, vocab_size):\n",
        "  word = reverse_word_index[word_num]\n",
        "  embeddings = weights[word_num]\n",
        "  out_m.write(word + \"\\n\")\n",
        "  out_v.write('\\t'.join([str(x) for x in embeddings]) + \"\\n\")\n",
        "out_v.close()\n",
        "out_m.close()"
      ],
      "execution_count": null,
      "outputs": []
    },
    {
      "cell_type": "code",
      "metadata": {
        "id": "VmqpQMZ_XyOa",
        "colab": {
          "base_uri": "https://localhost:8080/",
          "height": 17
        },
        "outputId": "081ca332-9d17-43a1-a3f7-b1accfedf711"
      },
      "source": [
        "try:\n",
        "  from google.colab import files\n",
        "except ImportError:\n",
        "  pass\n",
        "else:\n",
        "  files.download('vecs.tsv')\n",
        "  files.download('meta.tsv')"
      ],
      "execution_count": null,
      "outputs": [
        {
          "output_type": "display_data",
          "data": {
            "application/javascript": [
              "\n",
              "    async function download(id, filename, size) {\n",
              "      if (!google.colab.kernel.accessAllowed) {\n",
              "        return;\n",
              "      }\n",
              "      const div = document.createElement('div');\n",
              "      const label = document.createElement('label');\n",
              "      label.textContent = `Downloading \"${filename}\": `;\n",
              "      div.appendChild(label);\n",
              "      const progress = document.createElement('progress');\n",
              "      progress.max = size;\n",
              "      div.appendChild(progress);\n",
              "      document.body.appendChild(div);\n",
              "\n",
              "      const buffers = [];\n",
              "      let downloaded = 0;\n",
              "\n",
              "      const channel = await google.colab.kernel.comms.open(id);\n",
              "      // Send a message to notify the kernel that we're ready.\n",
              "      channel.send({})\n",
              "\n",
              "      for await (const message of channel.messages) {\n",
              "        // Send a message to notify the kernel that we're ready.\n",
              "        channel.send({})\n",
              "        if (message.buffers) {\n",
              "          for (const buffer of message.buffers) {\n",
              "            buffers.push(buffer);\n",
              "            downloaded += buffer.byteLength;\n",
              "            progress.value = downloaded;\n",
              "          }\n",
              "        }\n",
              "      }\n",
              "      const blob = new Blob(buffers, {type: 'application/binary'});\n",
              "      const a = document.createElement('a');\n",
              "      a.href = window.URL.createObjectURL(blob);\n",
              "      a.download = filename;\n",
              "      div.appendChild(a);\n",
              "      a.click();\n",
              "      div.remove();\n",
              "    }\n",
              "  "
            ],
            "text/plain": [
              "<IPython.core.display.Javascript object>"
            ]
          },
          "metadata": {}
        },
        {
          "output_type": "display_data",
          "data": {
            "application/javascript": [
              "download(\"download_a243e2ff-6101-4d79-8c87-cb6887628723\", \"vecs.tsv\", 180320)"
            ],
            "text/plain": [
              "<IPython.core.display.Javascript object>"
            ]
          },
          "metadata": {}
        },
        {
          "output_type": "display_data",
          "data": {
            "application/javascript": [
              "\n",
              "    async function download(id, filename, size) {\n",
              "      if (!google.colab.kernel.accessAllowed) {\n",
              "        return;\n",
              "      }\n",
              "      const div = document.createElement('div');\n",
              "      const label = document.createElement('label');\n",
              "      label.textContent = `Downloading \"${filename}\": `;\n",
              "      div.appendChild(label);\n",
              "      const progress = document.createElement('progress');\n",
              "      progress.max = size;\n",
              "      div.appendChild(progress);\n",
              "      document.body.appendChild(div);\n",
              "\n",
              "      const buffers = [];\n",
              "      let downloaded = 0;\n",
              "\n",
              "      const channel = await google.colab.kernel.comms.open(id);\n",
              "      // Send a message to notify the kernel that we're ready.\n",
              "      channel.send({})\n",
              "\n",
              "      for await (const message of channel.messages) {\n",
              "        // Send a message to notify the kernel that we're ready.\n",
              "        channel.send({})\n",
              "        if (message.buffers) {\n",
              "          for (const buffer of message.buffers) {\n",
              "            buffers.push(buffer);\n",
              "            downloaded += buffer.byteLength;\n",
              "            progress.value = downloaded;\n",
              "          }\n",
              "        }\n",
              "      }\n",
              "      const blob = new Blob(buffers, {type: 'application/binary'});\n",
              "      const a = document.createElement('a');\n",
              "      a.href = window.URL.createObjectURL(blob);\n",
              "      a.download = filename;\n",
              "      div.appendChild(a);\n",
              "      a.click();\n",
              "      div.remove();\n",
              "    }\n",
              "  "
            ],
            "text/plain": [
              "<IPython.core.display.Javascript object>"
            ]
          },
          "metadata": {}
        },
        {
          "output_type": "display_data",
          "data": {
            "application/javascript": [
              "download(\"download_2c513411-ca72-4c14-8f53-44c04838da47\", \"meta.tsv\", 6529)"
            ],
            "text/plain": [
              "<IPython.core.display.Javascript object>"
            ]
          },
          "metadata": {}
        }
      ]
    },
    {
      "cell_type": "markdown",
      "source": [
        "https://projector.tensorflow.org/"
      ],
      "metadata": {
        "id": "vlKboLdi_7bc"
      }
    },
    {
      "cell_type": "code",
      "source": [
        ""
      ],
      "metadata": {
        "id": "uuCRF35b_9Fs"
      },
      "execution_count": null,
      "outputs": []
    }
  ]
}