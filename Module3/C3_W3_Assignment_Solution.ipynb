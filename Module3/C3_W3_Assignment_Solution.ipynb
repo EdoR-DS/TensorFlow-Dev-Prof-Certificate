{
  "nbformat": 4,
  "nbformat_minor": 0,
  "metadata": {
    "accelerator": "GPU",
    "colab": {
      "name": "C3_W3_Assignment_Solution.ipynb",
      "provenance": [],
      "collapsed_sections": [],
      "toc_visible": true,
      "include_colab_link": true
    },
    "kernelspec": {
      "name": "python3",
      "display_name": "Python 3"
    },
    "language_info": {
      "name": "python"
    }
  },
  "cells": [
    {
      "cell_type": "markdown",
      "metadata": {
        "id": "view-in-github",
        "colab_type": "text"
      },
      "source": [
        "<a href=\"https://colab.research.google.com/github/EdoR-DS/TensorFlow-Dev-Prof-Certificate/blob/main/Module3/C3_W3_Assignment_Solution.ipynb\" target=\"_parent\"><img src=\"https://colab.research.google.com/assets/colab-badge.svg\" alt=\"Open In Colab\"/></a>"
      ]
    },
    {
      "cell_type": "code",
      "metadata": {
        "id": "zX4Kg8DUTKWO"
      },
      "source": [
        "#@title Licensed under the Apache License, Version 2.0 (the \"License\");\n",
        "# you may not use this file except in compliance with the License.\n",
        "# You may obtain a copy of the License at\n",
        "#\n",
        "# https://www.apache.org/licenses/LICENSE-2.0\n",
        "#\n",
        "# Unless required by applicable law or agreed to in writing, software\n",
        "# distributed under the License is distributed on an \"AS IS\" BASIS,\n",
        "# WITHOUT WARRANTIES OR CONDITIONS OF ANY KIND, either express or implied.\n",
        "# See the License for the specific language governing permissions and\n",
        "# limitations under the License."
      ],
      "execution_count": null,
      "outputs": []
    },
    {
      "cell_type": "markdown",
      "metadata": {
        "id": "-v8aHcpUdtKN"
      },
      "source": [
        "**Note:** This notebook can run using TensorFlow 2.5.0"
      ]
    },
    {
      "cell_type": "code",
      "metadata": {
        "id": "FtL554lDdtKO"
      },
      "source": [
        "#!pip install tensorflow==2.5.0"
      ],
      "execution_count": null,
      "outputs": []
    },
    {
      "cell_type": "code",
      "metadata": {
        "id": "hmA6EzkQJ5jt"
      },
      "source": [
        "import json\n",
        "import tensorflow as tf\n",
        "import csv\n",
        "import random\n",
        "import numpy as np\n",
        "\n",
        "from tensorflow.keras.preprocessing.text import Tokenizer\n",
        "from tensorflow.keras.preprocessing.sequence import pad_sequences\n",
        "from tensorflow.keras.utils import to_categorical\n",
        "from tensorflow.keras import regularizers\n",
        "\n",
        "\n",
        "embedding_dim = 100\n",
        "max_length = 16\n",
        "trunc_type='post'\n",
        "padding_type='post'\n",
        "oov_tok = \"<OOV>\"\n",
        "training_size=16000\n",
        "test_portion=.1\n",
        "\n",
        "corpus = []\n"
      ],
      "execution_count": 1,
      "outputs": []
    },
    {
      "cell_type": "code",
      "metadata": {
        "id": "bM0l_dORKqE0",
        "outputId": "a77c95bf-4c37-4ab7-c3bb-042c40dab57f",
        "colab": {
          "base_uri": "https://localhost:8080/"
        }
      },
      "source": [
        "# Note that I cleaned the Stanford dataset to remove LATIN1 encoding to make it easier for Python CSV reader\n",
        "# You can do that yourself with:\n",
        "# iconv -f LATIN1 -t UTF8 training.1600000.processed.noemoticon.csv -o training_cleaned.csv\n",
        "\n",
        "# training_cleaned.csv\n",
        "!gdown --id 1wd8KaeCSHxt-nEpMeuHFSNWrDp8joUXJ\n",
        "\n",
        "num_sentences = 0\n",
        "\n",
        "with open(\"./training_cleaned.csv\") as csvfile:\n",
        "    reader = csv.reader(csvfile, delimiter=',')\n",
        "    for row in reader:\n",
        "        list_item=[]\n",
        "        \n",
        "        ### START CODE HERE\n",
        "        list_item.append(row[5])\n",
        "        this_label=row[0]\n",
        "        if this_label=='0':\n",
        "            list_item.append(0)\n",
        "        else:\n",
        "            list_item.append(1)\n",
        "        ### END CODE HERE\n",
        "        \n",
        "        num_sentences = num_sentences + 1\n",
        "        corpus.append(list_item)\n"
      ],
      "execution_count": 2,
      "outputs": [
        {
          "output_type": "stream",
          "name": "stdout",
          "text": [
            "Downloading...\n",
            "From: https://drive.google.com/uc?id=1wd8KaeCSHxt-nEpMeuHFSNWrDp8joUXJ\n",
            "To: /content/training_cleaned.csv\n",
            "100% 239M/239M [00:02<00:00, 96.2MB/s]\n"
          ]
        }
      ]
    },
    {
      "cell_type": "code",
      "metadata": {
        "id": "3kxblBUjEUX-",
        "outputId": "183b95e5-da25-402a-d956-084d1b29b557",
        "colab": {
          "base_uri": "https://localhost:8080/"
        }
      },
      "source": [
        "print(num_sentences)\n",
        "print(len(corpus))\n",
        "print(corpus[1])\n",
        "\n",
        "# Expected Output:\n",
        "# 1600000\n",
        "# 1600000\n",
        "# [\"is upset that he can't update his Facebook by texting it... and might cry as a result  School today also. Blah!\", 0]"
      ],
      "execution_count": 3,
      "outputs": [
        {
          "output_type": "stream",
          "name": "stdout",
          "text": [
            "1600000\n",
            "1600000\n",
            "[\"is upset that he can't update his Facebook by texting it... and might cry as a result  School today also. Blah!\", 0]\n"
          ]
        }
      ]
    },
    {
      "cell_type": "code",
      "metadata": {
        "id": "ohOGz24lsNAD"
      },
      "source": [
        "sentences=[]\n",
        "labels=[]\n",
        "random.shuffle(corpus)\n",
        "for x in range(training_size):\n",
        "    sentences.append(corpus[x][0])# YOUR CODE HERE)\n",
        "    labels.append(corpus[x][1])# YOUR CODE HERE)\n",
        "\n",
        "\n",
        "tokenizer = Tokenizer()\n",
        "tokenizer.fit_on_texts(sentences)# YOUR CODE HERE)\n",
        "\n",
        "word_index = tokenizer.word_index\n",
        "vocab_size=len(word_index)# YOUR CODE HERE)\n",
        "\n",
        "sequences = tokenizer.texts_to_sequences(sentences)# YOUR CODE HERE)\n",
        "padded = pad_sequences(sequences, maxlen=max_length, padding=padding_type, truncating=trunc_type)# YOUR CODE HERE)\n",
        "\n",
        "split = int(test_portion * training_size)\n",
        "\n",
        "test_sequences = padded[0:split]# YOUR CODE HERE)\n",
        "training_sequences = padded[split:training_size]# YOUR CODE HERE)\n",
        "test_labels = labels[0:split]# YOUR CODE HERE)\n",
        "training_labels = labels[split:training_size]# YOUR CODE HERE)"
      ],
      "execution_count": 4,
      "outputs": []
    },
    {
      "cell_type": "code",
      "metadata": {
        "id": "gIrtRem1En3N",
        "outputId": "00fa7930-17c7-47bf-a0fb-a9c56b00562a",
        "colab": {
          "base_uri": "https://localhost:8080/"
        }
      },
      "source": [
        "print(vocab_size)\n",
        "print(word_index['i'])\n",
        "# Expected Output\n",
        "# 138856\n",
        "# 1"
      ],
      "execution_count": 5,
      "outputs": [
        {
          "output_type": "stream",
          "name": "stdout",
          "text": [
            "26760\n",
            "1\n"
          ]
        }
      ]
    },
    {
      "cell_type": "code",
      "metadata": {
        "id": "C1zdgJkusRh0",
        "outputId": "50572ced-42ec-410c-88f3-13f9d6139a7c",
        "colab": {
          "base_uri": "https://localhost:8080/"
        }
      },
      "source": [
        "# Note this is the 100 dimension version of GloVe from Stanford\n",
        "\n",
        "# glove.6B.100d.txt\n",
        "!gdown --id 1W5vZy2etitAblLdFn8_DxnsQKzfFJ98g\n",
        "\n",
        "embeddings_index = {};\n",
        "with open('./glove.6B.100d.txt') as f:\n",
        "    for line in f:\n",
        "        values = line.split();\n",
        "        word = values[0];\n",
        "        coefs = np.asarray(values[1:], dtype='float32');\n",
        "        embeddings_index[word] = coefs;\n",
        "\n",
        "embeddings_matrix = np.zeros((vocab_size+1, embedding_dim));\n",
        "for word, i in word_index.items():\n",
        "    embedding_vector = embeddings_index.get(word);\n",
        "    if embedding_vector is not None:\n",
        "        embeddings_matrix[i] = embedding_vector;"
      ],
      "execution_count": 6,
      "outputs": [
        {
          "output_type": "stream",
          "name": "stdout",
          "text": [
            "Downloading...\n",
            "From: https://drive.google.com/uc?id=1W5vZy2etitAblLdFn8_DxnsQKzfFJ98g\n",
            "To: /content/glove.6B.100d.txt\n",
            "100% 347M/347M [00:03<00:00, 115MB/s] \n"
          ]
        }
      ]
    },
    {
      "cell_type": "code",
      "metadata": {
        "id": "71NLk_lpFLNt",
        "outputId": "6774d261-fd14-45b5-d375-8b11a2994c62",
        "colab": {
          "base_uri": "https://localhost:8080/"
        }
      },
      "source": [
        "print(len(embeddings_matrix))\n",
        "# Expected Output\n",
        "# 138857"
      ],
      "execution_count": 7,
      "outputs": [
        {
          "output_type": "stream",
          "name": "stdout",
          "text": [
            "26761\n"
          ]
        }
      ]
    },
    {
      "cell_type": "code",
      "metadata": {
        "id": "iKKvbuEBOGFz",
        "outputId": "be289692-0a61-4154-f65d-ce1cf7faafd2",
        "colab": {
          "base_uri": "https://localhost:8080/"
        }
      },
      "source": [
        "model = tf.keras.Sequential([\n",
        "    # YOUR CODE HERE\n",
        "    tf.keras.layers.Embedding(vocab_size+1, embedding_dim, input_length=max_length, weights=[embeddings_matrix], trainable=False),\n",
        "    tf.keras.layers.Dropout(0.2),\n",
        "    tf.keras.layers.Conv1D(64, 5, activation='relu'),\n",
        "    tf.keras.layers.MaxPooling1D(pool_size=4),\n",
        "    tf.keras.layers.LSTM(64),\n",
        "    tf.keras.layers.Dense(1, activation='sigmoid')\n",
        "])\n",
        "model.compile(loss='binary_crossentropy',optimizer='adam',metrics=['accuracy'])# YOUR CODE HERE)\n",
        "model.summary()\n",
        "\n",
        "num_epochs = 50\n",
        "\n",
        "training_padded = np.array(training_sequences)\n",
        "training_labels = np.array(training_labels)\n",
        "testing_padded = np.array(test_sequences)\n",
        "testing_labels = np.array(test_labels)\n",
        "\n",
        "history = model.fit(training_padded, training_labels, epochs=num_epochs, validation_data=(testing_padded, testing_labels), verbose=2)\n",
        "\n",
        "print(\"Training Complete\")"
      ],
      "execution_count": 8,
      "outputs": [
        {
          "output_type": "stream",
          "name": "stdout",
          "text": [
            "Model: \"sequential\"\n",
            "_________________________________________________________________\n",
            " Layer (type)                Output Shape              Param #   \n",
            "=================================================================\n",
            " embedding (Embedding)       (None, 16, 100)           2676100   \n",
            "                                                                 \n",
            " dropout (Dropout)           (None, 16, 100)           0         \n",
            "                                                                 \n",
            " conv1d (Conv1D)             (None, 12, 64)            32064     \n",
            "                                                                 \n",
            " max_pooling1d (MaxPooling1D  (None, 3, 64)            0         \n",
            " )                                                               \n",
            "                                                                 \n",
            " lstm (LSTM)                 (None, 64)                33024     \n",
            "                                                                 \n",
            " dense (Dense)               (None, 1)                 65        \n",
            "                                                                 \n",
            "=================================================================\n",
            "Total params: 2,741,253\n",
            "Trainable params: 65,153\n",
            "Non-trainable params: 2,676,100\n",
            "_________________________________________________________________\n",
            "Epoch 1/50\n",
            "450/450 - 17s - loss: 0.6276 - accuracy: 0.6437 - val_loss: 0.5971 - val_accuracy: 0.6706 - 17s/epoch - 38ms/step\n",
            "Epoch 2/50\n",
            "450/450 - 2s - loss: 0.5686 - accuracy: 0.7028 - val_loss: 0.5886 - val_accuracy: 0.6825 - 2s/epoch - 4ms/step\n",
            "Epoch 3/50\n",
            "450/450 - 2s - loss: 0.5366 - accuracy: 0.7263 - val_loss: 0.5839 - val_accuracy: 0.6956 - 2s/epoch - 4ms/step\n",
            "Epoch 4/50\n",
            "450/450 - 2s - loss: 0.5039 - accuracy: 0.7513 - val_loss: 0.5970 - val_accuracy: 0.6800 - 2s/epoch - 5ms/step\n",
            "Epoch 5/50\n",
            "450/450 - 2s - loss: 0.4715 - accuracy: 0.7735 - val_loss: 0.5939 - val_accuracy: 0.6850 - 2s/epoch - 5ms/step\n",
            "Epoch 6/50\n",
            "450/450 - 2s - loss: 0.4468 - accuracy: 0.7851 - val_loss: 0.6058 - val_accuracy: 0.6862 - 2s/epoch - 5ms/step\n",
            "Epoch 7/50\n",
            "450/450 - 2s - loss: 0.4201 - accuracy: 0.8038 - val_loss: 0.6377 - val_accuracy: 0.6875 - 2s/epoch - 5ms/step\n",
            "Epoch 8/50\n",
            "450/450 - 2s - loss: 0.3987 - accuracy: 0.8169 - val_loss: 0.6550 - val_accuracy: 0.6837 - 2s/epoch - 5ms/step\n",
            "Epoch 9/50\n",
            "450/450 - 2s - loss: 0.3722 - accuracy: 0.8312 - val_loss: 0.6894 - val_accuracy: 0.6862 - 2s/epoch - 4ms/step\n",
            "Epoch 10/50\n",
            "450/450 - 2s - loss: 0.3611 - accuracy: 0.8380 - val_loss: 0.6798 - val_accuracy: 0.6662 - 2s/epoch - 4ms/step\n",
            "Epoch 11/50\n",
            "450/450 - 2s - loss: 0.3384 - accuracy: 0.8497 - val_loss: 0.7115 - val_accuracy: 0.6681 - 2s/epoch - 5ms/step\n",
            "Epoch 12/50\n",
            "450/450 - 2s - loss: 0.3279 - accuracy: 0.8532 - val_loss: 0.7162 - val_accuracy: 0.6681 - 2s/epoch - 5ms/step\n",
            "Epoch 13/50\n",
            "450/450 - 2s - loss: 0.3149 - accuracy: 0.8619 - val_loss: 0.7415 - val_accuracy: 0.6675 - 2s/epoch - 5ms/step\n",
            "Epoch 14/50\n",
            "450/450 - 2s - loss: 0.3051 - accuracy: 0.8649 - val_loss: 0.7518 - val_accuracy: 0.6644 - 2s/epoch - 4ms/step\n",
            "Epoch 15/50\n",
            "450/450 - 2s - loss: 0.2937 - accuracy: 0.8708 - val_loss: 0.7385 - val_accuracy: 0.6800 - 2s/epoch - 4ms/step\n",
            "Epoch 16/50\n",
            "450/450 - 2s - loss: 0.2820 - accuracy: 0.8781 - val_loss: 0.7821 - val_accuracy: 0.6750 - 2s/epoch - 4ms/step\n",
            "Epoch 17/50\n",
            "450/450 - 2s - loss: 0.2718 - accuracy: 0.8829 - val_loss: 0.7706 - val_accuracy: 0.6725 - 2s/epoch - 4ms/step\n",
            "Epoch 18/50\n",
            "450/450 - 2s - loss: 0.2648 - accuracy: 0.8867 - val_loss: 0.8008 - val_accuracy: 0.6675 - 2s/epoch - 4ms/step\n",
            "Epoch 19/50\n",
            "450/450 - 2s - loss: 0.2491 - accuracy: 0.8924 - val_loss: 0.8290 - val_accuracy: 0.6712 - 2s/epoch - 4ms/step\n",
            "Epoch 20/50\n",
            "450/450 - 2s - loss: 0.2506 - accuracy: 0.8918 - val_loss: 0.8991 - val_accuracy: 0.6581 - 2s/epoch - 4ms/step\n",
            "Epoch 21/50\n",
            "450/450 - 2s - loss: 0.2427 - accuracy: 0.8967 - val_loss: 0.8554 - val_accuracy: 0.6594 - 2s/epoch - 4ms/step\n",
            "Epoch 22/50\n",
            "450/450 - 2s - loss: 0.2355 - accuracy: 0.9019 - val_loss: 0.8964 - val_accuracy: 0.6706 - 2s/epoch - 4ms/step\n",
            "Epoch 23/50\n",
            "450/450 - 2s - loss: 0.2318 - accuracy: 0.9013 - val_loss: 0.8740 - val_accuracy: 0.6581 - 2s/epoch - 4ms/step\n",
            "Epoch 24/50\n",
            "450/450 - 2s - loss: 0.2212 - accuracy: 0.9051 - val_loss: 0.8656 - val_accuracy: 0.6706 - 2s/epoch - 4ms/step\n",
            "Epoch 25/50\n",
            "450/450 - 2s - loss: 0.2124 - accuracy: 0.9117 - val_loss: 0.9369 - val_accuracy: 0.6637 - 2s/epoch - 4ms/step\n",
            "Epoch 26/50\n",
            "450/450 - 2s - loss: 0.2159 - accuracy: 0.9083 - val_loss: 0.9563 - val_accuracy: 0.6463 - 2s/epoch - 4ms/step\n",
            "Epoch 27/50\n",
            "450/450 - 2s - loss: 0.2038 - accuracy: 0.9151 - val_loss: 1.0290 - val_accuracy: 0.6581 - 2s/epoch - 4ms/step\n",
            "Epoch 28/50\n",
            "450/450 - 2s - loss: 0.1993 - accuracy: 0.9201 - val_loss: 0.9982 - val_accuracy: 0.6637 - 2s/epoch - 4ms/step\n",
            "Epoch 29/50\n",
            "450/450 - 2s - loss: 0.1970 - accuracy: 0.9176 - val_loss: 0.9844 - val_accuracy: 0.6544 - 2s/epoch - 4ms/step\n",
            "Epoch 30/50\n",
            "450/450 - 2s - loss: 0.1941 - accuracy: 0.9201 - val_loss: 0.9571 - val_accuracy: 0.6494 - 2s/epoch - 4ms/step\n",
            "Epoch 31/50\n",
            "450/450 - 2s - loss: 0.1872 - accuracy: 0.9241 - val_loss: 1.0496 - val_accuracy: 0.6525 - 2s/epoch - 4ms/step\n",
            "Epoch 32/50\n",
            "450/450 - 2s - loss: 0.1838 - accuracy: 0.9231 - val_loss: 0.9803 - val_accuracy: 0.6612 - 2s/epoch - 4ms/step\n",
            "Epoch 33/50\n",
            "450/450 - 2s - loss: 0.1787 - accuracy: 0.9267 - val_loss: 1.0278 - val_accuracy: 0.6556 - 2s/epoch - 5ms/step\n",
            "Epoch 34/50\n",
            "450/450 - 2s - loss: 0.1747 - accuracy: 0.9281 - val_loss: 1.0356 - val_accuracy: 0.6612 - 2s/epoch - 5ms/step\n",
            "Epoch 35/50\n",
            "450/450 - 2s - loss: 0.1756 - accuracy: 0.9263 - val_loss: 1.0445 - val_accuracy: 0.6513 - 2s/epoch - 4ms/step\n",
            "Epoch 36/50\n",
            "450/450 - 2s - loss: 0.1697 - accuracy: 0.9298 - val_loss: 1.0554 - val_accuracy: 0.6669 - 2s/epoch - 4ms/step\n",
            "Epoch 37/50\n",
            "450/450 - 2s - loss: 0.1605 - accuracy: 0.9349 - val_loss: 1.0661 - val_accuracy: 0.6494 - 2s/epoch - 4ms/step\n",
            "Epoch 38/50\n",
            "450/450 - 2s - loss: 0.1609 - accuracy: 0.9360 - val_loss: 1.0459 - val_accuracy: 0.6488 - 2s/epoch - 4ms/step\n",
            "Epoch 39/50\n",
            "450/450 - 2s - loss: 0.1621 - accuracy: 0.9350 - val_loss: 1.0774 - val_accuracy: 0.6513 - 2s/epoch - 4ms/step\n",
            "Epoch 40/50\n",
            "450/450 - 2s - loss: 0.1611 - accuracy: 0.9354 - val_loss: 1.0961 - val_accuracy: 0.6519 - 2s/epoch - 4ms/step\n",
            "Epoch 41/50\n",
            "450/450 - 2s - loss: 0.1596 - accuracy: 0.9349 - val_loss: 1.0421 - val_accuracy: 0.6494 - 2s/epoch - 4ms/step\n",
            "Epoch 42/50\n",
            "450/450 - 2s - loss: 0.1571 - accuracy: 0.9376 - val_loss: 1.0997 - val_accuracy: 0.6475 - 2s/epoch - 4ms/step\n",
            "Epoch 43/50\n",
            "450/450 - 2s - loss: 0.1464 - accuracy: 0.9412 - val_loss: 1.1874 - val_accuracy: 0.6400 - 2s/epoch - 4ms/step\n",
            "Epoch 44/50\n",
            "450/450 - 2s - loss: 0.1465 - accuracy: 0.9410 - val_loss: 1.1472 - val_accuracy: 0.6513 - 2s/epoch - 4ms/step\n",
            "Epoch 45/50\n",
            "450/450 - 2s - loss: 0.1499 - accuracy: 0.9409 - val_loss: 1.1452 - val_accuracy: 0.6538 - 2s/epoch - 4ms/step\n",
            "Epoch 46/50\n",
            "450/450 - 2s - loss: 0.1406 - accuracy: 0.9448 - val_loss: 1.1483 - val_accuracy: 0.6431 - 2s/epoch - 4ms/step\n",
            "Epoch 47/50\n",
            "450/450 - 2s - loss: 0.1416 - accuracy: 0.9431 - val_loss: 1.1174 - val_accuracy: 0.6550 - 2s/epoch - 4ms/step\n",
            "Epoch 48/50\n",
            "450/450 - 2s - loss: 0.1359 - accuracy: 0.9480 - val_loss: 1.1595 - val_accuracy: 0.6444 - 2s/epoch - 4ms/step\n",
            "Epoch 49/50\n",
            "450/450 - 2s - loss: 0.1309 - accuracy: 0.9470 - val_loss: 1.1738 - val_accuracy: 0.6544 - 2s/epoch - 4ms/step\n",
            "Epoch 50/50\n",
            "450/450 - 2s - loss: 0.1343 - accuracy: 0.9481 - val_loss: 1.1730 - val_accuracy: 0.6463 - 2s/epoch - 5ms/step\n",
            "Training Complete\n"
          ]
        }
      ]
    },
    {
      "cell_type": "code",
      "metadata": {
        "id": "qxju4ItJKO8F",
        "outputId": "feca2627-5ed1-4353-f2f8-5fa6e2674f7d",
        "colab": {
          "base_uri": "https://localhost:8080/",
          "height": 608
        }
      },
      "source": [
        "import matplotlib.image  as mpimg\n",
        "import matplotlib.pyplot as plt\n",
        "\n",
        "#-----------------------------------------------------------\n",
        "# Retrieve a list of list results on training and test data\n",
        "# sets for each training epoch\n",
        "#-----------------------------------------------------------\n",
        "acc=history.history['accuracy']\n",
        "val_acc=history.history['val_accuracy']\n",
        "loss=history.history['loss']\n",
        "val_loss=history.history['val_loss']\n",
        "\n",
        "epochs=range(len(acc)) # Get number of epochs\n",
        "\n",
        "#------------------------------------------------\n",
        "# Plot training and validation accuracy per epoch\n",
        "#------------------------------------------------\n",
        "plt.plot(epochs, acc, 'r')\n",
        "plt.plot(epochs, val_acc, 'b')\n",
        "plt.title('Training and validation accuracy')\n",
        "plt.xlabel(\"Epochs\")\n",
        "plt.ylabel(\"Accuracy\")\n",
        "plt.legend([\"Accuracy\", \"Validation Accuracy\"])\n",
        "\n",
        "plt.figure()\n",
        "\n",
        "#------------------------------------------------\n",
        "# Plot training and validation loss per epoch\n",
        "#------------------------------------------------\n",
        "plt.plot(epochs, loss, 'r')\n",
        "plt.plot(epochs, val_loss, 'b')\n",
        "plt.title('Training and validation loss')\n",
        "plt.xlabel(\"Epochs\")\n",
        "plt.ylabel(\"Loss\")\n",
        "plt.legend([\"Loss\", \"Validation Loss\"])\n",
        "\n",
        "plt.figure()\n",
        "\n",
        "\n",
        "# Expected Output\n",
        "# A chart where the validation loss does not increase sharply!"
      ],
      "execution_count": 9,
      "outputs": [
        {
          "output_type": "execute_result",
          "data": {
            "text/plain": [
              "<Figure size 432x288 with 0 Axes>"
            ]
          },
          "metadata": {},
          "execution_count": 9
        },
        {
          "output_type": "display_data",
          "data": {
            "image/png": "[encoded data removed]",
            "text/plain": [
              "<Figure size 432x288 with 1 Axes>"
            ]
          },
          "metadata": {
            "needs_background": "light"
          }
        },
        {
          "output_type": "display_data",
          "data": {
            "image/png": "[encoded data removed]",
            "text/plain": [
              "<Figure size 432x288 with 1 Axes>"
            ]
          },
          "metadata": {
            "needs_background": "light"
          }
        },
        {
          "output_type": "display_data",
          "data": {
            "text/plain": [
              "<Figure size 432x288 with 0 Axes>"
            ]
          },
          "metadata": {}
        }
      ]
    }
  ]
}